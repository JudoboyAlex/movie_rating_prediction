{
 "cells": [
  {
   "cell_type": "markdown",
   "metadata": {},
   "source": [
    "# Limitation of Sklearn’s Non-Negative Matrix Factorization Library\n",
    "\n",
    "**1.Load the movie ratings data (as in the HW3-recommender-system) and use matrix factorization technique(s) and predict the missing ratings from the test data. Measure the RMSE. You should use sklearn library.**"
   ]
  },
  {
   "cell_type": "code",
   "execution_count": 10,
   "metadata": {},
   "outputs": [],
   "source": [
    "import pandas as pd\n",
    "import numpy as np\n",
    "from sklearn.decomposition import NMF\n",
    "from sklearn.metrics import mean_squared_error\n",
    "from math import sqrt\n",
    "import warnings\n"
   ]
  },
  {
   "cell_type": "code",
   "execution_count": 11,
   "metadata": {},
   "outputs": [],
   "source": [
    "MV_users = pd.read_csv('data/users.csv')\n",
    "MV_movies = pd.read_csv('data/movies.csv')\n",
    "train_data = pd.read_csv('data/train.csv')\n",
    "test_data = pd.read_csv('data/test.csv')"
   ]
  },
  {
   "cell_type": "code",
   "execution_count": 12,
   "metadata": {},
   "outputs": [
    {
     "name": "stdout",
     "output_type": "stream",
     "text": [
      "RMSE: 2.9400073885874316\n"
     ]
    }
   ],
   "source": [
    "# Suppress UserWarnings from sklearn\n",
    "warnings.filterwarnings('ignore')\n",
    "\n",
    "# Create a utility matrix (user-item matrix)\n",
    "utility_matrix = train_data.pivot(index='uID', columns='mID', values='rating')\n",
    "\n",
    "# Fill missing values with 0 for NMF (but depending on the method, could use NaN)\n",
    "utility_matrix.fillna(0, inplace=True)\n",
    "\n",
    "# Matrix Factorization using NMF\n",
    "nmf_model = NMF(n_components=20, init='nndsvd', beta_loss='kullback-leibler', solver='mu', random_state=42, max_iter=500)\n",
    "W = nmf_model.fit_transform(utility_matrix)\n",
    "H = nmf_model.components_\n",
    "\n",
    "# Predict ratings for the utility matrix\n",
    "predicted_ratings = np.dot(W, H)\n",
    "\n",
    "# Create a function to get predicted ratings for test data\n",
    "def predict_rating(uID, mID):\n",
    "    if uID in utility_matrix.index and mID in utility_matrix.columns:\n",
    "        return predicted_ratings[utility_matrix.index.get_loc(uID), utility_matrix.columns.get_loc(mID)]\n",
    "    else:\n",
    "        return np.nan  # If uID or mID not found\n",
    "\n",
    "# Apply the function to predict ratings for the test set\n",
    "test_data['predicted_rating'] = test_data.apply(lambda row: predict_rating(row['uID'], row['mID']), axis=1)\n",
    "\n",
    "# Drop rows where prediction is NaN\n",
    "test_data = test_data.dropna(subset=['predicted_rating'])\n",
    "\n",
    "# Calculate RMSE between actual and predicted ratings\n",
    "rmse = sqrt(mean_squared_error(test_data['rating'], test_data['predicted_rating']))\n",
    "\n",
    "print(f'RMSE: {rmse}')"
   ]
  },
  {
   "cell_type": "markdown",
   "metadata": {},
   "source": [
    "RMSE is 2.94.\n",
    "\n",
    "**2.Discuss the results and why sklearn's non-negative matrix facorization library did not work well compared to simple baseline or similarity-based methods we’ve done in Module 3. Can you suggest a way(s) to fix it?**\n",
    "\n",
    "Non-negative matrix factorization (NMF) works by factorizing the user-item matrix into two lower-dimensional matrices (user features and item features) and reconstructing the original matrix through the product of these matrices.\n",
    "There could be couple of reasons for such underperformance:\n",
    "- Sparse Data Problem: One major reason NMF may underperform is that the user-item matrix is extremely sparse(many users haven't rated many movies). Sparse data makes it difficult for NMF to find meaningful latent factors to represent users and movies, leading to inaccurate predictions.\n",
    "- Cold Start Problem: NMF struggles with cold start issues, i.e., when a user has rated very few movies (or none at all), NMF cannot effectively learn that user's preferences. Similarly, new movies with few ratings pose challenges for NMF.\n",
    "- Overfitting or Underfitting: If the number of components(n_components) in NMF is not tuned properly, the model may either overfit or underfit the data. Choosing the wrong number of components can lead to poorer generalization to new users and movies.\n",
    "\n",
    "To improve the performance of NMF, the following strategies could be considered:\n",
    "- Tuning the number of components (n_components): It’s essential to try different values for n_components to balance the model's complexity and ability to generalize. A cross-validation approach should be used to select the optimal number.\n",
    "- Regularization: Applying regularization to prevent overfitting. This can be done by adding constraints on the NMF factors (e.g., L2 regularization).\n",
    "- Matrix Imputation: Before applying NMF, you could use matrix imputation techniques to fill in missing ratings in a more intelligent way than simply assuming they are 0.\n",
    "\n",
    "\n"
   ]
  }
 ],
 "metadata": {
  "kernelspec": {
   "display_name": ".venv",
   "language": "python",
   "name": "python3"
  },
  "language_info": {
   "codemirror_mode": {
    "name": "ipython",
    "version": 3
   },
   "file_extension": ".py",
   "mimetype": "text/x-python",
   "name": "python",
   "nbconvert_exporter": "python",
   "pygments_lexer": "ipython3",
   "version": "3.12.1"
  }
 },
 "nbformat": 4,
 "nbformat_minor": 2
}
