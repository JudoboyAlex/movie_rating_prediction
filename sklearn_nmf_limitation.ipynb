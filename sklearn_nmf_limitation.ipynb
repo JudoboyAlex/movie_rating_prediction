{
 "cells": [
  {
   "cell_type": "markdown",
   "metadata": {},
   "source": [
    "# Limitation of Sklearn’s Non-Negative Matrix Factorization Library\n",
    "\n"
   ]
  },
  {
   "cell_type": "code",
   "execution_count": 10,
   "metadata": {},
   "outputs": [],
   "source": [
    "import pandas as pd\n",
    "import numpy as np\n",
    "from sklearn.decomposition import NMF\n",
    "from sklearn.metrics import mean_squared_error\n",
    "from math import sqrt\n",
    "import warnings\n"
   ]
  },
  {
   "cell_type": "code",
   "execution_count": 11,
   "metadata": {},
   "outputs": [],
   "source": [
    "MV_users = pd.read_csv('data/users.csv')\n",
    "MV_movies = pd.read_csv('data/movies.csv')\n",
    "train_data = pd.read_csv('data/train.csv')\n",
    "test_data = pd.read_csv('data/test.csv')"
   ]
  },
  {
   "cell_type": "code",
   "execution_count": 12,
   "metadata": {},
   "outputs": [
    {
     "name": "stdout",
     "output_type": "stream",
     "text": [
      "RMSE: 2.9400073885874316\n"
     ]
    }
   ],
   "source": [
    "# Suppress UserWarnings from sklearn\n",
    "warnings.filterwarnings('ignore')\n",
    "\n",
    "# Create a utility matrix (user-item matrix)\n",
    "utility_matrix = train_data.pivot(index='uID', columns='mID', values='rating')\n",
    "\n",
    "# Fill missing values with 0 for NMF (but depending on the method, could use NaN)\n",
    "utility_matrix.fillna(0, inplace=True)\n",
    "\n",
    "# Matrix Factorization using NMF\n",
    "nmf_model = NMF(n_components=20, init='nndsvd', beta_loss='kullback-leibler', solver='mu', random_state=42, max_iter=500)\n",
    "W = nmf_model.fit_transform(utility_matrix)\n",
    "H = nmf_model.components_\n",
    "\n",
    "# Predict ratings for the utility matrix\n",
    "predicted_ratings = np.dot(W, H)\n",
    "\n",
    "# Create a function to get predicted ratings for test data\n",
    "def predict_rating(uID, mID):\n",
    "    if uID in utility_matrix.index and mID in utility_matrix.columns:\n",
    "        return predicted_ratings[utility_matrix.index.get_loc(uID), utility_matrix.columns.get_loc(mID)]\n",
    "    else:\n",
    "        return np.nan  # If uID or mID not found\n",
    "\n",
    "# Apply the function to predict ratings for the test set\n",
    "test_data['predicted_rating'] = test_data.apply(lambda row: predict_rating(row['uID'], row['mID']), axis=1)\n",
    "\n",
    "# Drop rows where prediction is NaN\n",
    "test_data = test_data.dropna(subset=['predicted_rating'])\n",
    "\n",
    "# Calculate RMSE between actual and predicted ratings\n",
    "rmse = sqrt(mean_squared_error(test_data['rating'], test_data['predicted_rating']))\n",
    "\n",
    "print(f'RMSE: {rmse}')"
   ]
  }
 ],
 "metadata": {
  "kernelspec": {
   "display_name": ".venv",
   "language": "python",
   "name": "python3"
  },
  "language_info": {
   "codemirror_mode": {
    "name": "ipython",
    "version": 3
   },
   "file_extension": ".py",
   "mimetype": "text/x-python",
   "name": "python",
   "nbconvert_exporter": "python",
   "pygments_lexer": "ipython3",
   "version": "3.12.1"
  }
 },
 "nbformat": 4,
 "nbformat_minor": 2
}
